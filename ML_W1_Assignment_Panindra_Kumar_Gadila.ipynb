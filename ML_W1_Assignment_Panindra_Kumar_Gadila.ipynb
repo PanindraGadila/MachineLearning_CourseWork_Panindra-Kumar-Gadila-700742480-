{
 "cells": [
  {
   "cell_type": "code",
   "execution_count": 2,
   "metadata": {},
   "outputs": [
    {
     "name": "stdout",
     "output_type": "stream",
     "text": [
      "sorted List: [19, 19, 20, 22, 24, 24, 24, 25, 25, 26]\n",
      "After adding min and max age to the sorted List: [19, 19, 20, 22, 24, 24, 24, 25, 25, 26, 19, 26]\n",
      "median age: 24.0\n",
      "Average age is = 22.75\n",
      "Range of ages= 7\n"
     ]
    }
   ],
   "source": [
    "#question 1-program\n",
    "\n",
    "\n",
    "ages = [19, 22, 19, 24, 20, 25, 26, 24, 25, 24] #-- taking the list\n",
    "ages.sort()                                     #-- sorting\n",
    "print(\"sorted List:\", ages)                     \n",
    "ages.append(min(ages)), ages.append(max(ages))  #-- appending the min and max ages of list again\n",
    "print(\"After adding min and max age to the sorted List:\",ages)\n",
    "def medianFunction(data):                       #-- defining a function for getting median based on odd/even lengths of the given lenght\n",
    "    med = len(data) // 2\n",
    "    if not len(data) % 2:\n",
    "        return (data[med - 1] + data[med]) / 2.0\n",
    "    return data[med]\n",
    "print(\"median age:\", medianFunction(ages))\n",
    "avg = 0 \n",
    "for int in ages:                                #-- loop for iterating through list to calculate the lenght on the given list\n",
    "    avg = avg+int\n",
    "print(\"Average age is =\",avg/len(ages))         #-- printing average of the list\n",
    "print(\"Range of ages=\", (max(ages)-min(ages)))  #-- printing range of the list items"
   ]
  },
  {
   "cell_type": "code",
   "execution_count": 3,
   "metadata": {},
   "outputs": [
    {
     "name": "stdout",
     "output_type": "stream",
     "text": [
      "getting Length of the student dict 9\n",
      "student skills ['c++', 'python'] & the type of the Skills list is <class 'list'>\n",
      "['first_name', 'last_name', 'gender', 'age', 'maritial_status', 'skills', 'country', 'city', 'address']\n",
      "values ['Panindra_Kumar', 'Gadila', 'male', 25, 'single', ['c++', 'python', 'Assembly', 'bash_scripting'], 'india', 'Mumbai', '4800 W 108th St 1035 Apt']\n"
     ]
    }
   ],
   "source": [
    "#question 2-program\n",
    "\n",
    "dog=dict()                                                                              #---Creating an empty dictionary dog                         \n",
    "dog={\"Name\":\"\",\"Color\":\"\",\"Breed\":\"\",\"Legs\":\"\",\"Age\":\"\"}                                #---adding given items as keys and empty values to dictionary\n",
    "student_Dict={\"first_name\":\"Panindra_Kumar\",\"last_name\":\"Gadila\",                       #---Creating an student dictionary   \n",
    "\"gender\":\"male\",\"age\":25,\"maritial_status\":\"single\",\"skills\":[\"c++\",\"python\"],\n",
    "\"country\":\"india\",\"city\":\"Mumbai\",\"address\":\"4800 W 108th St 1035 Apt\"}\n",
    "print(\"getting Length of the student dict\",len(student_Dict))                           #---length of the student dictionary \n",
    "print(\"student skills\",student_Dict[\"skills\"], \"& the type of the Skills list is\",type(student_Dict[\"skills\"]))  #---Values in skills and its type of data\n",
    "student_Dict[\"skills\"]=student_Dict[\"skills\"]+[\"Assembly\",\"bash_scripting\"]             #---Modifying the skills values\n",
    "kList = list(student_Dict.keys())                                                       #---dictionary keys as a list\n",
    "kList = list(student_Dict.keys())                                                       #---dictionary values as a list\n",
    "print(kList)\n",
    "print(\"values\",list(student_Dict.values()))"
   ]
  },
  {
   "cell_type": "code",
   "execution_count": 4,
   "metadata": {},
   "outputs": [
    {
     "name": "stdout",
     "output_type": "stream",
     "text": [
      "my siblings are  ('ImgBroOne', 'ImgBroTwo', 'ImgBroThree', 'ImgBroFour', 'ImgSisOne', 'ImgSisTwo')\n",
      "I have  6  siblings\n",
      "('ImgBroOne', 'ImgBroTwo', 'ImgBroThree', 'ImgBroFour', 'ImgSisOne', 'ImgSisTwo', 'SudherShan_Reddy', 'Laxmi_ramreddy')\n"
     ]
    }
   ],
   "source": [
    "#question 3-Program\n",
    "\n",
    "brothers=(\"ImgBroOne\",\"ImgBroTwo\",\"ImgBroThree\",\"ImgBroFour\")                                 #---Brothers tuple\n",
    "sisters=(\"ImgSisOne\",\"ImgSisTwo\")                                                             #---Sisters tuple\n",
    "siblings=brothers+sisters                                                                     #---Siblings tuple copy by adding\n",
    "print(\"my siblings are \",siblings)                                                     \n",
    "print(\"I have \",len(siblings), \" siblings\")\n",
    "siblings=siblings+(\"SudherShan_Reddy\",\"Laxmi_ramreddy\")                                       #---Modifying the siblings tuple and setting it to family_members tuple\n",
    "family_members=siblings\n",
    "print(family_members)"
   ]
  },
  {
   "cell_type": "code",
   "execution_count": 5,
   "metadata": {},
   "outputs": [
    {
     "name": "stdout",
     "output_type": "stream",
     "text": [
      "Total IT companies  7\n",
      "Added new Company  {'Facebook', 'Google', 'Twitter', 'IBM', 'Oracle', 'Apple', 'Microsoft', 'Amazon'}\n",
      "Added multiple companies  {'Chase', 'Capgemini', 'Amazon', 'Facebook', 'Google', 'Twitter', 'Apple', 'Microsoft', 'BOK_Fin', 'Oracle', 'IBM'}\n",
      "After removing one values  {'Chase', 'Capgemini', 'Amazon', 'Facebook', 'Google', 'Twitter', 'Apple', 'Microsoft', 'Oracle', 'IBM'}\n",
      "A Union B  {19, 20, 22, 24, 25, 26, 27, 28}\n",
      "A Intersection B  {19, 20, 22, 24, 25, 26}\n",
      "is A is subset of B : True\n",
      "is A and B are disjoint sets : False\n",
      "the symmetric difference between A and B : {27, 28}\n",
      "deleting set A and B  None None\n",
      "converted age list to set  {19, 22, 24, 25, 26}\n",
      "Comparing the length of the list and the set by making difference between length of age list and length of age set is  3\n"
     ]
    }
   ],
   "source": [
    "#question 4-Program\n",
    "\n",
    "it_companies = {'Facebook', 'Google', 'Microsoft', 'Apple', 'IBM', 'Oracle', 'Amazon'}\n",
    "A = {19, 22, 24, 20, 25, 26}\n",
    "B = {19, 22, 20, 25, 26, 24, 28, 27}\n",
    "age = [22, 19, 24, 25, 26, 24, 25, 24]\n",
    " \n",
    "CountIT = len(it_companies)\n",
    "print(\"Total IT companies \",CountIT)    #-length of it companies set\n",
    "it_companies.add(\"Twitter\") #-adding twitter to set\n",
    "print(\"Added new Company \",it_companies)\n",
    "it_companies.update([\"Capgemini\",\"Chase\",\"BOK_Fin\"])\n",
    "print(\"Added multiple companies \",it_companies)\n",
    "it_companies.remove(\"BOK_Fin\")\n",
    "print(\"After removing one values \",it_companies)\n",
    "#----\n",
    "# difference between remove and discard ? ----- Ans :remove() method will raise an error if the specified item does not exist, and the discard() method will not.\n",
    "#----\n",
    "AB_Joined=A.union(B)\n",
    "print(\"A Union B \",AB_Joined)\n",
    "AB_INtersection=A.intersection(B)\n",
    "\n",
    "print(\"A Intersection B \",AB_INtersection)\n",
    "print(\"is A is subset of B :\",A.issubset(B))\n",
    "print(\"is A and B are disjoint sets :\",A.isdisjoint(B))\n",
    "print(\"the symmetric difference between A and B :\",A.symmetric_difference(B))\n",
    "print(\"deleting set A and B \", A.clear(), B.clear())\n",
    "AgeSet=set(age)                    #--converting age list to a set\n",
    "print(\"converted age list to set \",AgeSet)\n",
    "print(\"Comparing the length of the list and the set by making difference between length of age list and length of age set is \",len(age)-len(AgeSet)) #--comparing lengths of the list and set"
   ]
  },
  {
   "cell_type": "code",
   "execution_count": 2,
   "metadata": {},
   "outputs": [
    {
     "name": "stdout",
     "output_type": "stream",
     "text": [
      "radius of the circle is: 12\n",
      "Area of Circle  452.16\n",
      "Circumference of circle  75.36\n"
     ]
    }
   ],
   "source": [
    "#question 5-Program\n",
    "\n",
    "radius=int(input(\"plz enter the radius\"))                                                 #--radius to be entered on run time\n",
    "print(\"radius of the circle is:\", radius)                           \n",
    "_area_of_circle_=3.14*(radius**2)                                   #--area formula pi*(r to the power of 2)\n",
    "_circum_of_circle_=2*3.14*radius                                    #--circumference of given circle calculation formula 2Pi(r^2)\n",
    "print(\"Area of Circle \",_area_of_circle_)                           #--printing in to the console\n",
    "print(\"Circumference of circle \",_circum_of_circle_)"
   ]
  },
  {
   "cell_type": "code",
   "execution_count": 3,
   "metadata": {},
   "outputs": [
    {
     "name": "stdout",
     "output_type": "stream",
     "text": [
      "No.of unique words are  10\n"
     ]
    }
   ],
   "source": [
    "#question 6-Program\n",
    "\n",
    "Sentence_Line=\"I am a teacher and I love to inspire and teach people\"\n",
    "unique_words=set(Sentence_Line.split())                                             #--Split function by default uses whiteSpaces as the separator in the string sentence\n",
    "print(\"No.of unique words are \",len(unique_words))                                  #--printing number of unique word from the given sentence using length function"
   ]
  },
  {
   "cell_type": "code",
   "execution_count": 5,
   "metadata": {},
   "outputs": [
    {
     "name": "stdout",
     "output_type": "stream",
     "text": [
      "Name\tAge\tCountry\tCity\n",
      "Gadila\t23\tInida\tMumbai\n"
     ]
    }
   ],
   "source": [
    "#question 7-Program\n",
    "\n",
    "print(\"Name\\tAge\\tCountry\\tCity\\nGadila\\t23\\tInida\\tMumbai\")     #--making use of backwards slash t and n for tab key stroke and next line"
   ]
  },
  {
   "cell_type": "code",
   "execution_count": 6,
   "metadata": {},
   "outputs": [
    {
     "name": "stdout",
     "output_type": "stream",
     "text": [
      "The area of a circle with radius 10 is 314.0 meters square.\n"
     ]
    }
   ],
   "source": [
    "#question 8-Program\n",
    "\n",
    "radius = 10\n",
    "area = 3.14 * radius ** 2\n",
    "print(\"The area of a circle with radius %s is %s meters square.\" %(radius,area))    #--Formatting string using % operator"
   ]
  },
  {
   "cell_type": "code",
   "execution_count": 12,
   "metadata": {},
   "outputs": [
    {
     "name": "stdout",
     "output_type": "stream",
     "text": [
      "Weights list with lbs: [12, 23]\n",
      "Weights list with kgs: [5.443104, 10.432616]\n"
     ]
    }
   ],
   "source": [
    "#question 9-Program\n",
    "\n",
    "Students_Lst_Lbs = []                                       # Prompt for users to enter number of elements as input\n",
    "Prmt = int(input(\"Enter number of elements : \"))\n",
    "Students_Lst_Kgs= []                                        # iterating till the range\n",
    "for i in range(0, Prmt):\n",
    "    Students_Lst_Lbs.append(int(input()))                   # adding the element and appending both at a time\n",
    "    Students_Lst_Kgs.append(Students_Lst_Lbs[i]*0.453592)   # Converting lbs to kgs abd appending in anther list \n",
    "print(\"Weights list with lbs:\", Students_Lst_Lbs)  \n",
    "print(\"Weights list with kgs:\", Students_Lst_Kgs)                                     #printing to Console"
   ]
  }
 ],
 "metadata": {
  "kernelspec": {
   "display_name": "Python 3.9.12 ('base')",
   "language": "python",
   "name": "python3"
  },
  "language_info": {
   "codemirror_mode": {
    "name": "ipython",
    "version": 3
   },
   "file_extension": ".py",
   "mimetype": "text/x-python",
   "name": "python",
   "nbconvert_exporter": "python",
   "pygments_lexer": "ipython3",
   "version": "3.9.12"
  },
  "orig_nbformat": 4,
  "vscode": {
   "interpreter": {
    "hash": "870dce2084acf9d3fd92c68c130cc632736f1c25bf0d75eafcd6b451c3897034"
   }
  }
 },
 "nbformat": 4,
 "nbformat_minor": 2
}
